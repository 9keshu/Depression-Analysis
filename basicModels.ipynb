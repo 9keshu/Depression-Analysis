{
  "nbformat": 4,
  "nbformat_minor": 0,
  "metadata": {
    "colab": {
      "name": "basicModels.ipynb",
      "provenance": [],
      "authorship_tag": "ABX9TyP6woRT+9lVOSG/8L2DePyD",
      "include_colab_link": true
    },
    "kernelspec": {
      "name": "python3",
      "display_name": "Python 3"
    }
  },
  "cells": [
    {
      "cell_type": "markdown",
      "metadata": {
        "id": "view-in-github",
        "colab_type": "text"
      },
      "source": [
        "<a href=\"https://colab.research.google.com/github/9keshu/Depression-Analysis/blob/main/basicModels.ipynb\" target=\"_parent\"><img src=\"https://colab.research.google.com/assets/colab-badge.svg\" alt=\"Open In Colab\"/></a>"
      ]
    },
    {
      "cell_type": "code",
      "metadata": {
        "id": "AaFaBBUVk7IX"
      },
      "source": [
        "# Start writing code here...\r\n",
        "import pandas as pd\r\n",
        "import xgboost\r\n",
        "import re\r\n",
        "from sklearn import model_selection, preprocessing, linear_model, naive_bayes, metrics, svm\r\n",
        "from sklearn.feature_extraction.text import TfidfVectorizer, CountVectorizer\r\n",
        "from sklearn import decomposition, ensemble\r\n",
        "from sklearn.metrics import f1_score"
      ],
      "execution_count": null,
      "outputs": []
    },
    {
      "cell_type": "code",
      "metadata": {
        "id": "rrSSj3yLlCeC"
      },
      "source": [
        "train = pd.read_csv('trainCSV.csv')\r\n"
      ],
      "execution_count": null,
      "outputs": []
    },
    {
      "cell_type": "code",
      "metadata": {
        "id": "wvbPjv8MLvpV"
      },
      "source": [
        "test = pd.read_csv('testCSV.csv')"
      ],
      "execution_count": null,
      "outputs": []
    },
    {
      "cell_type": "code",
      "metadata": {
        "colab": {
          "base_uri": "https://localhost:8080/",
          "height": 359
        },
        "id": "xmMkaeiUlSWP",
        "outputId": "addb42be-9375-4a05-f79a-20973837414e"
      },
      "source": [
        "train.head(10)"
      ],
      "execution_count": null,
      "outputs": [
        {
          "output_type": "execute_result",
          "data": {
            "text/html": [
              "<div>\n",
              "<style scoped>\n",
              "    .dataframe tbody tr th:only-of-type {\n",
              "        vertical-align: middle;\n",
              "    }\n",
              "\n",
              "    .dataframe tbody tr th {\n",
              "        vertical-align: top;\n",
              "    }\n",
              "\n",
              "    .dataframe thead th {\n",
              "        text-align: right;\n",
              "    }\n",
              "</style>\n",
              "<table border=\"1\" class=\"dataframe\">\n",
              "  <thead>\n",
              "    <tr style=\"text-align: right;\">\n",
              "      <th></th>\n",
              "      <th>id</th>\n",
              "      <th>tweet</th>\n",
              "      <th>label</th>\n",
              "    </tr>\n",
              "  </thead>\n",
              "  <tbody>\n",
              "    <tr>\n",
              "      <th>0</th>\n",
              "      <td>1.0</td>\n",
              "      <td>Feeling a bit depressedI've been in a big low ...</td>\n",
              "      <td>depression</td>\n",
              "    </tr>\n",
              "    <tr>\n",
              "      <th>1</th>\n",
              "      <td>2.0</td>\n",
              "      <td>Was going to hang myself but didn't have guts ...</td>\n",
              "      <td>depression</td>\n",
              "    </tr>\n",
              "    <tr>\n",
              "      <th>2</th>\n",
              "      <td>3.0</td>\n",
              "      <td>Have you ever maintained a poor friendship jus...</td>\n",
              "      <td>depression</td>\n",
              "    </tr>\n",
              "    <tr>\n",
              "      <th>3</th>\n",
              "      <td>4.0</td>\n",
              "      <td>I haven't felt positive feelings in a long tim...</td>\n",
              "      <td>depression</td>\n",
              "    </tr>\n",
              "    <tr>\n",
              "      <th>4</th>\n",
              "      <td>5.0</td>\n",
              "      <td>Partners of those who suffer from depression; ...</td>\n",
              "      <td>depression</td>\n",
              "    </tr>\n",
              "    <tr>\n",
              "      <th>5</th>\n",
              "      <td>6.0</td>\n",
              "      <td>I'm worthless.I've gotten whinier and weaker a...</td>\n",
              "      <td>depression</td>\n",
              "    </tr>\n",
              "    <tr>\n",
              "      <th>6</th>\n",
              "      <td>7.0</td>\n",
              "      <td>What's the best way to say 'Goodbye'?There's a...</td>\n",
              "      <td>depression</td>\n",
              "    </tr>\n",
              "    <tr>\n",
              "      <th>7</th>\n",
              "      <td>8.0</td>\n",
              "      <td>I just want to fucking end itI have nothing el...</td>\n",
              "      <td>depression</td>\n",
              "    </tr>\n",
              "    <tr>\n",
              "      <th>8</th>\n",
              "      <td>9.0</td>\n",
              "      <td>Help with Nightmares/night terrors?Its bad eno...</td>\n",
              "      <td>depression</td>\n",
              "    </tr>\n",
              "    <tr>\n",
              "      <th>9</th>\n",
              "      <td>10.0</td>\n",
              "      <td>My depression has lasted over a month, and it ...</td>\n",
              "      <td>depression</td>\n",
              "    </tr>\n",
              "  </tbody>\n",
              "</table>\n",
              "</div>"
            ],
            "text/plain": [
              "     id                                              tweet       label\n",
              "0   1.0  Feeling a bit depressedI've been in a big low ...  depression\n",
              "1   2.0  Was going to hang myself but didn't have guts ...  depression\n",
              "2   3.0  Have you ever maintained a poor friendship jus...  depression\n",
              "3   4.0  I haven't felt positive feelings in a long tim...  depression\n",
              "4   5.0  Partners of those who suffer from depression; ...  depression\n",
              "5   6.0  I'm worthless.I've gotten whinier and weaker a...  depression\n",
              "6   7.0  What's the best way to say 'Goodbye'?There's a...  depression\n",
              "7   8.0  I just want to fucking end itI have nothing el...  depression\n",
              "8   9.0  Help with Nightmares/night terrors?Its bad eno...  depression\n",
              "9  10.0  My depression has lasted over a month, and it ...  depression"
            ]
          },
          "metadata": {
            "tags": []
          },
          "execution_count": 4
        }
      ]
    },
    {
      "cell_type": "code",
      "metadata": {
        "id": "Ubf8zvuqlTqn"
      },
      "source": [
        "labels = ['depression','Non-Depressed']\r\n",
        "def label_encode(val):\r\n",
        "    return labels.index(val)"
      ],
      "execution_count": null,
      "outputs": []
    },
    {
      "cell_type": "code",
      "metadata": {
        "id": "AqGeUlFdlZUH"
      },
      "source": [
        "#Label Encoding"
      ],
      "execution_count": null,
      "outputs": []
    },
    {
      "cell_type": "code",
      "metadata": {
        "id": "7ZBhr-4QTk7Z"
      },
      "source": [
        "train = train.dropna(axis=0)"
      ],
      "execution_count": null,
      "outputs": []
    },
    {
      "cell_type": "code",
      "metadata": {
        "id": "65kyc3hZlfvV"
      },
      "source": [
        "train.label = train.label.apply(label_encode)"
      ],
      "execution_count": null,
      "outputs": []
    },
    {
      "cell_type": "code",
      "metadata": {
        "colab": {
          "base_uri": "https://localhost:8080/",
          "height": 359
        },
        "id": "riwX86s8ljAW",
        "outputId": "bbeeaf26-607a-49c1-d206-4347e20928e7"
      },
      "source": [
        "train.head(10)"
      ],
      "execution_count": null,
      "outputs": [
        {
          "output_type": "execute_result",
          "data": {
            "text/html": [
              "<div>\n",
              "<style scoped>\n",
              "    .dataframe tbody tr th:only-of-type {\n",
              "        vertical-align: middle;\n",
              "    }\n",
              "\n",
              "    .dataframe tbody tr th {\n",
              "        vertical-align: top;\n",
              "    }\n",
              "\n",
              "    .dataframe thead th {\n",
              "        text-align: right;\n",
              "    }\n",
              "</style>\n",
              "<table border=\"1\" class=\"dataframe\">\n",
              "  <thead>\n",
              "    <tr style=\"text-align: right;\">\n",
              "      <th></th>\n",
              "      <th>id</th>\n",
              "      <th>tweet</th>\n",
              "      <th>label</th>\n",
              "    </tr>\n",
              "  </thead>\n",
              "  <tbody>\n",
              "    <tr>\n",
              "      <th>0</th>\n",
              "      <td>1.0</td>\n",
              "      <td>Feeling a bit depressedI've been in a big low ...</td>\n",
              "      <td>0</td>\n",
              "    </tr>\n",
              "    <tr>\n",
              "      <th>1</th>\n",
              "      <td>2.0</td>\n",
              "      <td>Was going to hang myself but didn't have guts ...</td>\n",
              "      <td>0</td>\n",
              "    </tr>\n",
              "    <tr>\n",
              "      <th>2</th>\n",
              "      <td>3.0</td>\n",
              "      <td>Have you ever maintained a poor friendship jus...</td>\n",
              "      <td>0</td>\n",
              "    </tr>\n",
              "    <tr>\n",
              "      <th>3</th>\n",
              "      <td>4.0</td>\n",
              "      <td>I haven't felt positive feelings in a long tim...</td>\n",
              "      <td>0</td>\n",
              "    </tr>\n",
              "    <tr>\n",
              "      <th>4</th>\n",
              "      <td>5.0</td>\n",
              "      <td>Partners of those who suffer from depression; ...</td>\n",
              "      <td>0</td>\n",
              "    </tr>\n",
              "    <tr>\n",
              "      <th>5</th>\n",
              "      <td>6.0</td>\n",
              "      <td>I'm worthless.I've gotten whinier and weaker a...</td>\n",
              "      <td>0</td>\n",
              "    </tr>\n",
              "    <tr>\n",
              "      <th>6</th>\n",
              "      <td>7.0</td>\n",
              "      <td>What's the best way to say 'Goodbye'?There's a...</td>\n",
              "      <td>0</td>\n",
              "    </tr>\n",
              "    <tr>\n",
              "      <th>7</th>\n",
              "      <td>8.0</td>\n",
              "      <td>I just want to fucking end itI have nothing el...</td>\n",
              "      <td>0</td>\n",
              "    </tr>\n",
              "    <tr>\n",
              "      <th>8</th>\n",
              "      <td>9.0</td>\n",
              "      <td>Help with Nightmares/night terrors?Its bad eno...</td>\n",
              "      <td>0</td>\n",
              "    </tr>\n",
              "    <tr>\n",
              "      <th>9</th>\n",
              "      <td>10.0</td>\n",
              "      <td>My depression has lasted over a month, and it ...</td>\n",
              "      <td>0</td>\n",
              "    </tr>\n",
              "  </tbody>\n",
              "</table>\n",
              "</div>"
            ],
            "text/plain": [
              "     id                                              tweet  label\n",
              "0   1.0  Feeling a bit depressedI've been in a big low ...      0\n",
              "1   2.0  Was going to hang myself but didn't have guts ...      0\n",
              "2   3.0  Have you ever maintained a poor friendship jus...      0\n",
              "3   4.0  I haven't felt positive feelings in a long tim...      0\n",
              "4   5.0  Partners of those who suffer from depression; ...      0\n",
              "5   6.0  I'm worthless.I've gotten whinier and weaker a...      0\n",
              "6   7.0  What's the best way to say 'Goodbye'?There's a...      0\n",
              "7   8.0  I just want to fucking end itI have nothing el...      0\n",
              "8   9.0  Help with Nightmares/night terrors?Its bad eno...      0\n",
              "9  10.0  My depression has lasted over a month, and it ...      0"
            ]
          },
          "metadata": {
            "tags": []
          },
          "execution_count": 9
        }
      ]
    },
    {
      "cell_type": "code",
      "metadata": {
        "id": "fv41nA-fllLu"
      },
      "source": [
        "#Cleaning training and test data"
      ],
      "execution_count": null,
      "outputs": []
    },
    {
      "cell_type": "code",
      "metadata": {
        "id": "sK3T_2h2lomr"
      },
      "source": [
        "train = train.reset_index(drop=True)\r\n",
        "REPLACE_BY_SPACE_RE = re.compile('[/(){}\\[\\]\\|@,;]')\r\n",
        "BAD_SYMBOLS_RE = re.compile('[^0-9a-z #+_]')\r\n",
        "STOPWORDS = []\r\n",
        "\r\n",
        "def clean_text(text):\r\n",
        "    \"\"\"\r\n",
        "        text: a string\r\n",
        "        \r\n",
        "        return: modified initial string\r\n",
        "    \"\"\"\r\n",
        "    text = text.lower() # lowercase text\r\n",
        "    text = REPLACE_BY_SPACE_RE.sub(' ', text) # replace REPLACE_BY_SPACE_RE symbols by space in text. substitute the matched string in REPLACE_BY_SPACE_RE with space.\r\n",
        "    text = BAD_SYMBOLS_RE.sub('', text) # remove symbols which are in BAD_SYMBOLS_RE from text. substitute the matched string in BAD_SYMBOLS_RE with nothing. \r\n",
        "#    text = re.sub(r'\\W+', '', text)\r\n",
        "    text = ' '.join(word for word in text.split() if word not in STOPWORDS) # remove stopwors from text\r\n",
        "    return text\r\n",
        "train.tweet = train.tweet.apply(clean_text)\r\n",
        "train.tweet = train.tweet.str.replace('\\d+', '')"
      ],
      "execution_count": null,
      "outputs": []
    },
    {
      "cell_type": "code",
      "metadata": {
        "id": "qp5OD4I3lrPp"
      },
      "source": [
        "#Preparing Test Data"
      ],
      "execution_count": null,
      "outputs": []
    },
    {
      "cell_type": "code",
      "metadata": {
        "id": "6Isax4KtTwxU"
      },
      "source": [
        "test = test.dropna(axis=0)"
      ],
      "execution_count": null,
      "outputs": []
    },
    {
      "cell_type": "code",
      "metadata": {
        "id": "1mOW0baxlt4t"
      },
      "source": [
        "\r\n",
        "test.label = test.label.apply(label_encode)\r\n",
        "test = test.reset_index(drop=True)\r\n",
        "test.tweet = test.tweet.apply(clean_text)\r\n",
        "test.tweet = test.tweet.str.replace('\\d+', '')"
      ],
      "execution_count": null,
      "outputs": []
    },
    {
      "cell_type": "code",
      "metadata": {
        "colab": {
          "base_uri": "https://localhost:8080/"
        },
        "id": "p8VwCDnMlwTy",
        "outputId": "45182ff6-7da9-43b1-93ba-cba61c8a1944"
      },
      "source": [
        "train.tweet.sample(10)"
      ],
      "execution_count": null,
      "outputs": [
        {
          "output_type": "execute_result",
          "data": {
            "text/plain": [
              "20      being aloneas i sit here typing all this just ...\n",
              "3099    hi r baseball have you ever caught a foulball ...\n",
              "1911    i just want to talk to someone about thishey r...\n",
              "3510    following the coup detat and installation of a...\n",
              "1246    i dont know what to dodisclaimer not necessari...\n",
              "2259    struggling immensely with anxiety and obsessiv...\n",
              "4475    ok so im a highschool bowler ive improved alot...\n",
              "3346    im just trying to play a nascar game and this ...\n",
              "778     its been a long  yearsim turning  next week im...\n",
              "2963    hey guys played my first game yesterday and my...\n",
              "Name: tweet, dtype: object"
            ]
          },
          "metadata": {
            "tags": []
          },
          "execution_count": 15
        }
      ]
    },
    {
      "cell_type": "code",
      "metadata": {
        "id": "3JfvoOrTlyjM"
      },
      "source": [
        "#Building Model"
      ],
      "execution_count": null,
      "outputs": []
    },
    {
      "cell_type": "code",
      "metadata": {
        "id": "HSvZ7ji1l3CO"
      },
      "source": [
        "\r\n",
        "def train_model(classifier, feature_vector_train, label,  feature_vector_valid, valid_y,test_data , test_label ,is_neural_net=False):\r\n",
        "    # fit the training dataset on the classifier\r\n",
        "    classifier.fit(feature_vector_train, label)\r\n",
        "    \r\n",
        "    # predict the labels on validation dataset\r\n",
        "    predictions = classifier.predict(feature_vector_valid)\r\n",
        "    \r\n",
        "    if is_neural_net:\r\n",
        "        predictions = predictions.argmax(axis=-1)\r\n",
        "    \r\n",
        "    #print(\"In Validation Data\",metrics.accuracy_score(predictions, valid_y))\r\n",
        "    #applying in test data\r\n",
        "    predictions_test = classifier.predict(test_data)\r\n",
        "    \r\n",
        "    if is_neural_net:\r\n",
        "        predictions_test = predictions_test.argmax(axis=-1)\r\n",
        "    print(\"f1 score: \",f1_score(test_label,predictions_test))\r\n",
        "        \r\n",
        "    return metrics.accuracy_score(test_label,predictions_test)"
      ],
      "execution_count": null,
      "outputs": []
    },
    {
      "cell_type": "code",
      "metadata": {
        "id": "NITUB3g6l5Pv"
      },
      "source": [
        "#1.Splitting the Data into Train and validation"
      ],
      "execution_count": null,
      "outputs": []
    },
    {
      "cell_type": "code",
      "metadata": {
        "id": "rMGlPBsrl8ed"
      },
      "source": [
        "\r\n",
        "# split the dataset into training and validation datasets \r\n",
        "from sklearn.model_selection import train_test_split\r\n",
        "# train_x, valid_x, train_y, valid_y = model_selection.train_test_split(train['tweet'], train['label'])\r\n",
        "train_x, valid_x, train_y, valid_y = train_test_split(train['tweet'], train['label'], test_size=0.30)"
      ],
      "execution_count": null,
      "outputs": []
    },
    {
      "cell_type": "code",
      "metadata": {
        "id": "41f3jgmBmBuA"
      },
      "source": [
        "#2. Applying WordLevel tf-idf and bi-gram tf-idf"
      ],
      "execution_count": null,
      "outputs": []
    },
    {
      "cell_type": "code",
      "metadata": {
        "id": "a5bhwoMBmFz-"
      },
      "source": [
        "# word level tf-idf\r\n",
        "tfidf_vect = TfidfVectorizer(analyzer='word', token_pattern=r'\\w{1,}', max_features=5000)\r\n",
        "tfidf_vect.fit(train['tweet'])\r\n",
        "xtrain_tfidf =  tfidf_vect.transform(train_x)\r\n",
        "xvalid_tfidf =  tfidf_vect.transform(valid_x)\r\n",
        "test_tfidf   =  tfidf_vect.transform(test['tweet'])\r\n",
        "\r\n",
        "# ngram level tf-idf (bigram in this case)\r\n",
        "tfidf_vect_ngram = TfidfVectorizer(analyzer='word', token_pattern=r'\\w{1,}', ngram_range=(2,3), max_features=5000)\r\n",
        "tfidf_vect_ngram.fit(train['tweet'])\r\n",
        "xtrain_tfidf_ngram =  tfidf_vect_ngram.fit_transform(train_x)\r\n",
        "xvalid_tfidf_ngram =  tfidf_vect_ngram.fit_transform(valid_x)\r\n",
        "test_tfidf_ngram   =  tfidf_vect.fit_transform(test['tweet'])"
      ],
      "execution_count": null,
      "outputs": []
    },
    {
      "cell_type": "code",
      "metadata": {
        "id": "OWpLEjW6mIIs"
      },
      "source": [
        "#Naive Bayes Model"
      ],
      "execution_count": null,
      "outputs": []
    },
    {
      "cell_type": "code",
      "metadata": {
        "id": "otBTprGorLGd"
      },
      "source": [
        ""
      ],
      "execution_count": null,
      "outputs": []
    },
    {
      "cell_type": "code",
      "metadata": {
        "colab": {
          "base_uri": "https://localhost:8080/"
        },
        "id": "IeQ1Qgh6mP_t",
        "outputId": "6a3824d4-87f8-4907-d40d-41cc75fd6f36"
      },
      "source": [
        "# Naive Bayes on Word Level TF IDF Vectors\r\n",
        "accuracy = train_model(naive_bayes.MultinomialNB(), xtrain_tfidf, train_y, xvalid_tfidf, valid_y, test_tfidf, test['label'])\r\n",
        "print (\"NB, WordLevel TF-IDF: \", accuracy)\r\n",
        "\r\n",
        "# Naive Bayes on Ngram Level TF IDF Vectors\r\n",
        "accuracy = train_model(naive_bayes.MultinomialNB(), xtrain_tfidf_ngram, train_y, xvalid_tfidf_ngram, valid_y ,test_tfidf_ngram, test['label'])\r\n",
        "print (\"NB, Bi-Gram Vectors: \", accuracy)"
      ],
      "execution_count": null,
      "outputs": [
        {
          "output_type": "stream",
          "text": [
            "f1 score:  0.8994145822245876\n",
            "NB, WordLevel TF-IDF:  0.9055\n",
            "f1 score:  0.5112474437627812\n",
            "NB, Bi-Gram Vectors:  0.522\n"
          ],
          "name": "stdout"
        }
      ]
    },
    {
      "cell_type": "code",
      "metadata": {
        "id": "WRRb9oTjmSoi"
      },
      "source": [
        "#Linear Classifier"
      ],
      "execution_count": null,
      "outputs": []
    },
    {
      "cell_type": "code",
      "metadata": {
        "colab": {
          "base_uri": "https://localhost:8080/"
        },
        "id": "Dt5AJGz7moJG",
        "outputId": "cf04b147-0604-476f-b697-84cccb37d728"
      },
      "source": [
        "# Linear Classifier on Word Level TF IDF Vectors\r\n",
        "accuracy = train_model(linear_model.LogisticRegression(), xtrain_tfidf, train_y, xvalid_tfidf, valid_y, test_tfidf, test['label'])\r\n",
        "print(\"LR, WordLevel TF-IDF: \", accuracy)\r\n",
        "\r\n",
        "# Linear Classifier on Ngram Level TF IDF Vectors\r\n",
        "accuracy = train_model(linear_model.LogisticRegression(),  xtrain_tfidf_ngram, train_y, xvalid_tfidf_ngram, valid_y ,test_tfidf_ngram, test['label'])\r\n",
        "print(\"LR, Bi-Gram Vectors: \", accuracy)"
      ],
      "execution_count": null,
      "outputs": [
        {
          "output_type": "stream",
          "text": [
            "f1 score:  0.9114914425427874\n",
            "LR, WordLevel TF-IDF:  0.9095\n",
            "f1 score:  0.6756874727193365\n",
            "LR, Bi-Gram Vectors:  0.6285\n"
          ],
          "name": "stdout"
        }
      ]
    },
    {
      "cell_type": "code",
      "metadata": {
        "id": "uu_JM9ZKmrF1"
      },
      "source": [
        "#Bagging Model"
      ],
      "execution_count": null,
      "outputs": []
    },
    {
      "cell_type": "code",
      "metadata": {
        "colab": {
          "base_uri": "https://localhost:8080/"
        },
        "id": "U49gkAoJmvIc",
        "outputId": "6d83b678-8a04-45ae-9489-8977c46c5f6a"
      },
      "source": [
        "\r\n",
        "# RF on Word Level TF IDF Vectors\r\n",
        "accuracy = train_model(ensemble.RandomForestClassifier(), xtrain_tfidf, train_y, xvalid_tfidf, valid_y, test_tfidf, test['label'])\r\n",
        "print (\"RF, WordLevel TF-IDF: \", accuracy)\r\n",
        "\r\n",
        "# RF on ngram Level TF IDF Vectors\r\n",
        "accuracy = train_model(ensemble.RandomForestClassifier(), xtrain_tfidf_ngram, train_y, xvalid_tfidf_ngram, valid_y ,test_tfidf_ngram, test['label'])\r\n",
        "print (\"RF, Bi-gram TF-IDF: \", accuracy)"
      ],
      "execution_count": null,
      "outputs": [
        {
          "output_type": "stream",
          "text": [
            "f1 score:  0.9199388067312596\n",
            "RF, WordLevel TF-IDF:  0.9215\n",
            "f1 score:  0.5659276546091014\n",
            "RF, Bi-gram TF-IDF:  0.628\n"
          ],
          "name": "stdout"
        }
      ]
    },
    {
      "cell_type": "code",
      "metadata": {
        "id": "XdZqWcX-mxf7"
      },
      "source": [
        "#Boosting Model"
      ],
      "execution_count": null,
      "outputs": []
    },
    {
      "cell_type": "code",
      "metadata": {
        "colab": {
          "base_uri": "https://localhost:8080/"
        },
        "id": "j5Uj7Z39m13L",
        "outputId": "c54bb9c8-93cc-4836-d3ae-03e4f4663f00"
      },
      "source": [
        "# Extereme Gradient Boosting on Word Level TF IDF Vectors\r\n",
        "accuracy = train_model(xgboost.XGBClassifier(), xtrain_tfidf.tocsc(), train_y, xvalid_tfidf.tocsc(), valid_y, test_tfidf.tocsc(), test['label'])\r\n",
        "print(\"Xgb, WordLevel TF-IDF: \", accuracy)\r\n",
        "\r\n",
        "# Extereme Gradient Boosting on ngram Level TF IDF Vectors\r\n",
        "accuracy = train_model(xgboost.XGBClassifier(), xtrain_tfidf_ngram.tocsc(), train_y, xvalid_tfidf_ngram.tocsc(), valid_y, test_tfidf_ngram.tocsc(), test['label'])\r\n",
        "print(\"Xgb, Bi-gram TF-IDF: \", accuracy)"
      ],
      "execution_count": null,
      "outputs": [
        {
          "output_type": "stream",
          "text": [
            "f1 score:  0.9118511263467189\n",
            "Xgb, WordLevel TF-IDF:  0.91\n",
            "f1 score:  0.6816745655608214\n",
            "Xgb, Bi-gram TF-IDF:  0.597\n"
          ],
          "name": "stdout"
        }
      ]
    },
    {
      "cell_type": "code",
      "metadata": {
        "id": "L2O7tJgTm5CS"
      },
      "source": [
        "#SVM Model"
      ],
      "execution_count": null,
      "outputs": []
    },
    {
      "cell_type": "code",
      "metadata": {
        "colab": {
          "base_uri": "https://localhost:8080/"
        },
        "id": "wMmXGtz1nAW8",
        "outputId": "2c527f8d-0b14-451b-f918-d64843d1fcfc"
      },
      "source": [
        "#SVM Model on Unigram TF-IDF\r\n",
        "accuracy = train_model(svm.SVC(), xtrain_tfidf.tocsc(), train_y, xvalid_tfidf.tocsc(), valid_y, test_tfidf.tocsc(), test['label'])\r\n",
        "print(\"SVM, WordLevel TF-IDF: \", accuracy)\r\n",
        "\r\n",
        "# SVM Model on Bigram TF-IDF\r\n",
        "accuracy = train_model(svm.SVC(), xtrain_tfidf_ngram.tocsc(), train_y, xvalid_tfidf_ngram.tocsc(), valid_y, test_tfidf_ngram.tocsc(), test['label'])\r\n",
        "print(\"SVM, Bi-gram TF-IDF: \", accuracy)"
      ],
      "execution_count": null,
      "outputs": [
        {
          "output_type": "stream",
          "text": [
            "f1 score:  0.9226219812715624\n",
            "SVM, WordLevel TF-IDF:  0.9215\n",
            "f1 score:  0.666366095581605\n",
            "SVM, Bi-gram TF-IDF:  0.63\n"
          ],
          "name": "stdout"
        }
      ]
    },
    {
      "cell_type": "code",
      "metadata": {
        "id": "LMkspAzWnCj_"
      },
      "source": [
        ""
      ],
      "execution_count": null,
      "outputs": []
    }
  ]
}