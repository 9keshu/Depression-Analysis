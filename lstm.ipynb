{
  "nbformat": 4,
  "nbformat_minor": 0,
  "metadata": {
    "colab": {
      "name": "lstm.ipynb",
      "provenance": [],
      "collapsed_sections": [],
      "authorship_tag": "ABX9TyOZf2qNHU/H6mxrx2/A1M2G",
      "include_colab_link": true
    },
    "kernelspec": {
      "display_name": "Python 3",
      "name": "python3"
    }
  },
  "cells": [
    {
      "cell_type": "markdown",
      "metadata": {
        "id": "view-in-github",
        "colab_type": "text"
      },
      "source": [
        "<a href=\"https://colab.research.google.com/github/9keshu/Depression-Analysis/blob/main/lstm.ipynb\" target=\"_parent\"><img src=\"https://colab.research.google.com/assets/colab-badge.svg\" alt=\"Open In Colab\"/></a>"
      ]
    },
    {
      "cell_type": "code",
      "metadata": {
        "id": "_dEOJqzLP3Of"
      },
      "source": [
        "# !ln -sf /opt/bin/nvidia-smi /usr/bin/nvidia-smi\r\n",
        "# !pip install gputil\r\n",
        "# !pip install psutil\r\n",
        "# !pip install humanize\r\n",
        "# !pip install tensorflow-addons"
      ],
      "execution_count": null,
      "outputs": []
    },
    {
      "cell_type": "code",
      "metadata": {
        "colab": {
          "base_uri": "https://localhost:8080/"
        },
        "id": "qloIaKKAQDGB",
        "outputId": "224ac3c6-aeff-4317-b8c8-1d14591a478c"
      },
      "source": [
        "\r\n",
        "import numpy as np\r\n",
        "import tensorflow as tf\r\n",
        "import pandas as pd\r\n",
        "from sklearn.model_selection import train_test_split\r\n",
        "import tensorflow_addons as tfa\r\n",
        "\r\n",
        "# import psutil\r\n",
        "# import humanize\r\n",
        "# import os, time\r\n",
        "# import GPUtil as GPU\r\n",
        "\r\n",
        "print(tf.__version__)"
      ],
      "execution_count": null,
      "outputs": [
        {
          "output_type": "stream",
          "text": [
            "2.4.1\n"
          ],
          "name": "stdout"
        }
      ]
    },
    {
      "cell_type": "code",
      "metadata": {
        "id": "wuqbixKuQGfC"
      },
      "source": [
        "# GPUs = GPU.getGPUs()\r\n",
        "# # only one GPU on Colab and isn’t guaranteed\r\n",
        "# gpu = GPUs[0]\r\n",
        "# def worker():\r\n",
        "#   while True:\r\n",
        "#     process = psutil.Process(os.getpid())\r\n",
        "#     print(\"Gen RAM Free: \" + humanize.naturalsize( psutil.virtual_memory().available ), \" I Proc size: \" + humanize.naturalsize( process.memory_info().rss))\r\n",
        "#     print(\"GPU RAM Free: {0:.0f}MB | Used: {1:.0f}MB | Util {2:3.0f}% | Total {3:.0f}MB\".format(gpu.memoryFree, gpu.memoryUsed, gpu.memoryUtil*100, gpu.memoryTotal))\r\n",
        "#     time.sleep(6)\r\n",
        "\r\n",
        "# import threading\r\n",
        "# t = threading.Thread(target=worker, name='Monitor')\r\n",
        "# t.start()"
      ],
      "execution_count": null,
      "outputs": []
    },
    {
      "cell_type": "code",
      "metadata": {
        "id": "cplYRwyLQLZ0"
      },
      "source": [
        "# import os\r\n",
        "# os.environ[\"TF_FORCE_GPU_ALLOW_GROWTH\"]=\"true\""
      ],
      "execution_count": null,
      "outputs": []
    },
    {
      "cell_type": "code",
      "metadata": {
        "id": "nFrGIlI4QOK0"
      },
      "source": [
        "import matplotlib.pyplot as plt\r\n",
        "def plot_graphs(history, metric):\r\n",
        "  plt.plot(history.history[metric])\r\n",
        "  plt.plot(history.history['val_'+metric], '')\r\n",
        "  plt.xlabel(\"Epochs\")\r\n",
        "  plt.ylabel(metric)\r\n",
        "  plt.legend([metric, 'val_'+metric])"
      ],
      "execution_count": null,
      "outputs": []
    },
    {
      "cell_type": "code",
      "metadata": {
        "id": "xwdXNsXIQQwx"
      },
      "source": [
        "\r\n",
        "data_df = pd.read_csv(\"trainCSV.csv\")"
      ],
      "execution_count": null,
      "outputs": []
    },
    {
      "cell_type": "code",
      "metadata": {
        "id": "4QN7DT7aE3V7"
      },
      "source": [
        "data_df = data_df.dropna(axis=0)"
      ],
      "execution_count": null,
      "outputs": []
    },
    {
      "cell_type": "code",
      "metadata": {
        "colab": {
          "base_uri": "https://localhost:8080/"
        },
        "id": "fcQZCFvPQaNJ",
        "outputId": "21306fc3-5eb2-40dd-c0e4-95c9acd34ede"
      },
      "source": [
        "data_df.shape"
      ],
      "execution_count": null,
      "outputs": [
        {
          "output_type": "execute_result",
          "data": {
            "text/plain": [
              "(5000, 3)"
            ]
          },
          "metadata": {
            "tags": []
          },
          "execution_count": 8
        }
      ]
    },
    {
      "cell_type": "code",
      "metadata": {
        "id": "62QRV6yeQhle"
      },
      "source": [
        "\r\n",
        "data_df['tweet'] = data_df['tweet'].str.replace('\\n', ' ').str.strip()"
      ],
      "execution_count": null,
      "outputs": []
    },
    {
      "cell_type": "code",
      "metadata": {
        "colab": {
          "base_uri": "https://localhost:8080/",
          "height": 419
        },
        "id": "9MWqd1AHQs-x",
        "outputId": "d8cd098b-7388-44fb-aaae-0a5e3fb1cd83"
      },
      "source": [
        "data_df"
      ],
      "execution_count": null,
      "outputs": [
        {
          "output_type": "execute_result",
          "data": {
            "text/html": [
              "<div>\n",
              "<style scoped>\n",
              "    .dataframe tbody tr th:only-of-type {\n",
              "        vertical-align: middle;\n",
              "    }\n",
              "\n",
              "    .dataframe tbody tr th {\n",
              "        vertical-align: top;\n",
              "    }\n",
              "\n",
              "    .dataframe thead th {\n",
              "        text-align: right;\n",
              "    }\n",
              "</style>\n",
              "<table border=\"1\" class=\"dataframe\">\n",
              "  <thead>\n",
              "    <tr style=\"text-align: right;\">\n",
              "      <th></th>\n",
              "      <th>id</th>\n",
              "      <th>tweet</th>\n",
              "      <th>label</th>\n",
              "    </tr>\n",
              "  </thead>\n",
              "  <tbody>\n",
              "    <tr>\n",
              "      <th>0</th>\n",
              "      <td>1.0</td>\n",
              "      <td>Feeling a bit depressedI've been in a big low ...</td>\n",
              "      <td>depression</td>\n",
              "    </tr>\n",
              "    <tr>\n",
              "      <th>1</th>\n",
              "      <td>2.0</td>\n",
              "      <td>Was going to hang myself but didn't have guts ...</td>\n",
              "      <td>depression</td>\n",
              "    </tr>\n",
              "    <tr>\n",
              "      <th>2</th>\n",
              "      <td>3.0</td>\n",
              "      <td>Have you ever maintained a poor friendship jus...</td>\n",
              "      <td>depression</td>\n",
              "    </tr>\n",
              "    <tr>\n",
              "      <th>3</th>\n",
              "      <td>4.0</td>\n",
              "      <td>I haven't felt positive feelings in a long tim...</td>\n",
              "      <td>depression</td>\n",
              "    </tr>\n",
              "    <tr>\n",
              "      <th>4</th>\n",
              "      <td>5.0</td>\n",
              "      <td>Partners of those who suffer from depression; ...</td>\n",
              "      <td>depression</td>\n",
              "    </tr>\n",
              "    <tr>\n",
              "      <th>...</th>\n",
              "      <td>...</td>\n",
              "      <td>...</td>\n",
              "      <td>...</td>\n",
              "    </tr>\n",
              "    <tr>\n",
              "      <th>4995</th>\n",
              "      <td>4996.0</td>\n",
              "      <td>I've been playing soccer since I was 4. I was ...</td>\n",
              "      <td>Non-Depressed</td>\n",
              "    </tr>\n",
              "    <tr>\n",
              "      <th>4996</th>\n",
              "      <td>4997.0</td>\n",
              "      <td>My husband and I just spent 5 days in Nice and...</td>\n",
              "      <td>Non-Depressed</td>\n",
              "    </tr>\n",
              "    <tr>\n",
              "      <th>4997</th>\n",
              "      <td>4998.0</td>\n",
              "      <td>Hey all, as the title says I'm new to DNM. I a...</td>\n",
              "      <td>Non-Depressed</td>\n",
              "    </tr>\n",
              "    <tr>\n",
              "      <th>4998</th>\n",
              "      <td>4999.0</td>\n",
              "      <td>Looking for a fantasy or sci fi novel with a g...</td>\n",
              "      <td>Non-Depressed</td>\n",
              "    </tr>\n",
              "    <tr>\n",
              "      <th>4999</th>\n",
              "      <td>5000.0</td>\n",
              "      <td>I wasn't sure if /r/Canada was the best place ...</td>\n",
              "      <td>Non-Depressed</td>\n",
              "    </tr>\n",
              "  </tbody>\n",
              "</table>\n",
              "<p>5000 rows × 3 columns</p>\n",
              "</div>"
            ],
            "text/plain": [
              "          id                                              tweet          label\n",
              "0        1.0  Feeling a bit depressedI've been in a big low ...     depression\n",
              "1        2.0  Was going to hang myself but didn't have guts ...     depression\n",
              "2        3.0  Have you ever maintained a poor friendship jus...     depression\n",
              "3        4.0  I haven't felt positive feelings in a long tim...     depression\n",
              "4        5.0  Partners of those who suffer from depression; ...     depression\n",
              "...      ...                                                ...            ...\n",
              "4995  4996.0  I've been playing soccer since I was 4. I was ...  Non-Depressed\n",
              "4996  4997.0  My husband and I just spent 5 days in Nice and...  Non-Depressed\n",
              "4997  4998.0  Hey all, as the title says I'm new to DNM. I a...  Non-Depressed\n",
              "4998  4999.0  Looking for a fantasy or sci fi novel with a g...  Non-Depressed\n",
              "4999  5000.0  I wasn't sure if /r/Canada was the best place ...  Non-Depressed\n",
              "\n",
              "[5000 rows x 3 columns]"
            ]
          },
          "metadata": {
            "tags": []
          },
          "execution_count": 10
        }
      ]
    },
    {
      "cell_type": "code",
      "metadata": {
        "id": "FpWxwzPgVvag"
      },
      "source": [
        "labels = ['depression','Non-Depressed']\r\n",
        "def label_encode(val):\r\n",
        "    return labels.index(val)"
      ],
      "execution_count": null,
      "outputs": []
    },
    {
      "cell_type": "code",
      "metadata": {
        "id": "FzQEUhGjV1S3"
      },
      "source": [
        "data_df.label = data_df.label.apply(label_encode)"
      ],
      "execution_count": null,
      "outputs": []
    },
    {
      "cell_type": "code",
      "metadata": {
        "id": "k7SFTDGbRO1-"
      },
      "source": [
        "# split the dataset into training and validation datasets \r\n",
        "train_x, valid_x, train_y, valid_y = train_test_split(data_df['tweet'], data_df['label'], test_size=0.20, random_state=42)"
      ],
      "execution_count": null,
      "outputs": []
    },
    {
      "cell_type": "code",
      "metadata": {
        "colab": {
          "base_uri": "https://localhost:8080/"
        },
        "id": "mNOmocNLRfZg",
        "outputId": "edb849a4-0798-4ec1-e6f9-ad1da4114ee7"
      },
      "source": [
        "train_y.value_counts(), valid_y.value_counts()"
      ],
      "execution_count": null,
      "outputs": [
        {
          "output_type": "execute_result",
          "data": {
            "text/plain": [
              "(1    2000\n",
              " 0    2000\n",
              " Name: label, dtype: int64, 1    500\n",
              " 0    500\n",
              " Name: label, dtype: int64)"
            ]
          },
          "metadata": {
            "tags": []
          },
          "execution_count": 14
        }
      ]
    },
    {
      "cell_type": "code",
      "metadata": {
        "id": "B_gKTcszRnSU"
      },
      "source": [
        "train_dataset = tf.data.Dataset.from_tensor_slices((train_x.values, train_y.values))\r\n",
        "test_dataset = tf.data.Dataset.from_tensor_slices((valid_x.values, valid_y.values))"
      ],
      "execution_count": null,
      "outputs": []
    },
    {
      "cell_type": "code",
      "metadata": {
        "colab": {
          "base_uri": "https://localhost:8080/"
        },
        "id": "xDD0gmyLRt_e",
        "outputId": "d68148f6-976f-4718-ae2c-5c787906c903"
      },
      "source": [
        "for feat, targ in train_dataset.take(5):\r\n",
        "  print ('Features: {}, Target: {}'.format(feat, targ))"
      ],
      "execution_count": null,
      "outputs": [
        {
          "output_type": "stream",
          "text": [
            "Features: b\"I'm a full time college student, and continue to ride on the side. I have been getting lessons while at school, but I'm getting so much more comfortable in the 2'6-3' range and am getting ready to continue moving up. The issue is, most lesson horses (at least in my area) top out around 3', if that. If I want to continue to move up, I need to figure out a different situation. The issue is, being a college student, I can't afford a huge amount. Here are some options I've thought of:1. Look for leases nearby. The issue is, most good horses are expensive even as a lease, plus board on top of that! The positive is it's relatively non-committal (I don't own the horse, therefore I won't have to worry about selling it and stuff down the road). 2. Buy an OTTB or younger horse, with plenty of potential. This seems to be the most unrealistic, as it requires more money up front, and that's the cheap part, with all of those additional expenses, unless I share-boarded.3. Hope an ideal situation comes along where somebody needs a horse worked (or a summer working student position) and continue to take lessons at my current level, in the meantime. 4. My university has an equestrian team and leases out horses through the summer for cheap. The issue is not having a horse for the other 9 months out of the year. Any input, or other suggestions?\", Target: 1\n",
            "Features: b\"Hi,I find that in batch of experiments, I often encounter oscillations towards the end of  optimization, that is my loss starts bobbing about. I'd like to know what would a good way to automatically these, so that I can reduce my learning rate when oscillations have begun, be?\", Target: 1\n",
            "Features: b\"I need help.I know I need help. I can't afford it and it's gotten so bad. I just need a friend but I can't force myself to socialize. nothing interests me anymore I have been like this for so many years. I feel the illness all over my body. I'm so close to having a stroke or a seizure I can feel it. if I could get my heart meds and get on anxiety meds maybe I'll survive. God I just want to cut. my bf is at work.\", Target: 0\n",
            "Features: b\"**Please post your:  Testosterone Type, Dose, and Frequency:  HCG Amount and Frequency:  AI Type, Dosage, and Frequency:  Any other meds related to TRT (DHEA, preg, etc):  Total T Levels on this Protocol:  Free T Levels:  E2 Levels:  SHBG:  Symptoms:**  For me,   50mg Cyp 2 x weekly  300iu HCG every 3 days  No AI  Total T: 879  Free T: 20  E2: 31  SHBG: 35  Symptoms: ED    I think having an organized thread with comparisons containing all of the information would be beneficial**Edit: guys I'm not looking for advice on changing my protocol or anything. I want to compare protocols that's all**\", Target: 1\n",
            "Features: b\"Hi all. I'm new to solar and have a ton of questions. I've researched a bit but I'm sure some of my figures are way off. I'd love to hear your thoughts on how (or whether I should even) proceed with solar as an option. Here's what we know:* My roof is approximately **1900** sqft.* I've lived in my house for **145** days (just moved in) and have used **2300** kWh during that period, which comes out to around **16** kWh per day, or roughly **500** per month.* I'm paying around **$0.20** / kWh for an average bill of roughly **$92/m**.* All of my light bulbs and appliances are new and energy efficient. The house was built a year ago, so the appliances and other items are around that old.* There are no obstructions between the sun and my roof from the time it rises to the time it sets. My roof angled perpendicular to the path of the sun. Here's what I've researched, but I'm pretty sure i'm off with some of these figures:* The average solar panel can generate anywhere from 10 - 20 kWh per year.* If I use up 100% of my roof (let's use round numbers for now), then my roof should be able to generate about 20,000 - 40,000 kWh per year.* I use roughly 500 per month, or 6,000 per year, which means I'll have an excess of 15,000 - 35,000 kWh per year.Knowing all of this, what are your thoughts on my best options? I looked into SolarCity, but their rates are pretty high. I believe the figure was somewhere in the $250/m for 30 years range (if i finance). My wife and I don't really use much electricity  and I don't see that figure increasing any time soon. Maybe we'll eventually install a pool and maybe it'll be heated, but we're talking years from now. Should I build a system to harness as much solar energy as I possibly can? If so, what would I do with the excess? I heard I can sell it to the power company. How does that work? Should I build a system to cover just what I need today? If so, then how do I plan for scaling (in case we decide to, say, install that heated pool)?Thanks!\", Target: 1\n"
          ],
          "name": "stdout"
        }
      ]
    },
    {
      "cell_type": "code",
      "metadata": {
        "id": "eG45CUg8RxSW"
      },
      "source": [
        "BUFFER_SIZE = 10000\r\n",
        "BATCH_SIZE = 64"
      ],
      "execution_count": null,
      "outputs": []
    },
    {
      "cell_type": "code",
      "metadata": {
        "id": "m2yEoCD5R6vB"
      },
      "source": [
        "train_dataset = train_dataset.shuffle(BUFFER_SIZE).batch(BATCH_SIZE).prefetch(tf.data.experimental.AUTOTUNE)\r\n",
        "test_dataset = test_dataset.batch(BATCH_SIZE).prefetch(tf.data.experimental.AUTOTUNE)"
      ],
      "execution_count": null,
      "outputs": []
    },
    {
      "cell_type": "code",
      "metadata": {
        "colab": {
          "base_uri": "https://localhost:8080/"
        },
        "id": "fJeJsZeAR-8I",
        "outputId": "353130c1-5bbc-4cd3-89da-207d4ab0cb5b"
      },
      "source": [
        "for example, label in train_dataset.take(1):\r\n",
        "  print('texts: ', example.numpy()[:3])\r\n",
        "  print()\r\n",
        "  print('labels: ', label.numpy()[:3])"
      ],
      "execution_count": null,
      "outputs": [
        {
          "output_type": "stream",
          "text": [
            "texts:  [b\"I'm trying so hard to forget him. He seems to be everywhere. I'm already over the breakup. I know it was for the best. I wanted too many things, expected too much and that's why I let him go. It wasn't fair to him and he knew it too. Today at work a mutual friend of his mom saw me and said that his mom had said she said hi and that she missed me. I smiled and told her to tell her I missed her too. It's little stuff like this that makes him pop into my mind. I just want to forget him and us. 6 years wasted. Then today I got asked out by another guy who I am talking to on Facebook and declined. I'm just not ready or enthusiastic about relationships anymore. The romantic dream of getting married and having a happily ever after is dead now. Ugh. Break ups suck.\"\n",
            " b'Anyone has similar issue?I was running 20170328 and verything was good.Upgraded to latest nightly using twrp and now all sounds are gone.BTW: what is the proper way of upgrading between releases? Do i need to wipe anything or may i just flash new one on top of old one?'\n",
            " b'i want greatnessim sick and tired of living a normal life. i want an amazing life of success and greatness. i look at others who are living amazing lives and i get so jealous and depressed and angry. i hate my life. the problem is that i have no talents, no skills, and no interests. how am i supposed to go for success when i dont have any talents..... plz help']\n",
            "\n",
            "labels:  [1 1 0]\n"
          ],
          "name": "stdout"
        }
      ]
    },
    {
      "cell_type": "code",
      "metadata": {
        "id": "YotadNY8SCQx"
      },
      "source": [
        "\r\n",
        "VOCAB_SIZE=1000\r\n",
        "encoder = tf.keras.layers.experimental.preprocessing.TextVectorization(\r\n",
        "    max_tokens=VOCAB_SIZE)\r\n",
        "encoder.adapt(train_dataset.map(lambda text, label: text))"
      ],
      "execution_count": null,
      "outputs": []
    },
    {
      "cell_type": "code",
      "metadata": {
        "colab": {
          "base_uri": "https://localhost:8080/"
        },
        "id": "gect0BW9SQxQ",
        "outputId": "305f0e2d-e12f-4aca-a3e5-b79c9f795ce9"
      },
      "source": [
        "vocab = np.array(encoder.get_vocabulary())\r\n",
        "vocab[:20]"
      ],
      "execution_count": null,
      "outputs": [
        {
          "output_type": "execute_result",
          "data": {
            "text/plain": [
              "array(['', '[UNK]', 'i', 'to', 'and', 'the', 'a', 'my', 'of', 'it',\n",
              "       'that', 'in', 'is', 'me', 'for', 'but', 'have', 'im', 'this',\n",
              "       'with'], dtype='<U13')"
            ]
          },
          "metadata": {
            "tags": []
          },
          "execution_count": 21
        }
      ]
    },
    {
      "cell_type": "code",
      "metadata": {
        "colab": {
          "base_uri": "https://localhost:8080/"
        },
        "id": "3o8TWYN1SU8R",
        "outputId": "a5d28b22-9f45-4e01-c952-41bae4992ce7"
      },
      "source": [
        "encoded_example = encoder(train_x.to_list()[1])[:3].numpy()\r\n",
        "encoded_example"
      ],
      "execution_count": null,
      "outputs": [
        {
          "output_type": "execute_result",
          "data": {
            "text/plain": [
              "array([  1, 139,  10])"
            ]
          },
          "metadata": {
            "tags": []
          },
          "execution_count": 22
        }
      ]
    },
    {
      "cell_type": "code",
      "metadata": {
        "id": "YX4J7wHDSaq5"
      },
      "source": [
        "model = tf.keras.Sequential([\r\n",
        "    encoder,\r\n",
        "    tf.keras.layers.Embedding(\r\n",
        "        input_dim=len(encoder.get_vocabulary()),\r\n",
        "        output_dim=64,\r\n",
        "        # Use masking to handle the variable sequence lengths\r\n",
        "        mask_zero=True),\r\n",
        "    tf.keras.layers.Bidirectional(tf.keras.layers.LSTM(64)),\r\n",
        "    tf.keras.layers.Dense(64, activation='relu'),\r\n",
        "    tf.keras.layers.Dense(1)\r\n",
        "])"
      ],
      "execution_count": null,
      "outputs": []
    },
    {
      "cell_type": "code",
      "metadata": {
        "colab": {
          "base_uri": "https://localhost:8080/"
        },
        "id": "otOlQxwqSfX4",
        "outputId": "4c140a61-7754-4d46-9f5f-900b49a9ea8d"
      },
      "source": [
        "print([layer.supports_masking for layer in model.layers])"
      ],
      "execution_count": null,
      "outputs": [
        {
          "output_type": "stream",
          "text": [
            "[False, True, True, True, True]\n"
          ],
          "name": "stdout"
        }
      ]
    },
    {
      "cell_type": "code",
      "metadata": {
        "id": "iaR1W2-uSi4X"
      },
      "source": [
        "model.compile(loss=tf.keras.losses.BinaryCrossentropy(from_logits=True),\r\n",
        "              optimizer=tf.keras.optimizers.Adam(1e-4),\r\n",
        "              metrics=['accuracy', tfa.metrics.F1Score(num_classes=2, average=\"micro\", threshold=0.5 )])"
      ],
      "execution_count": null,
      "outputs": []
    },
    {
      "cell_type": "code",
      "metadata": {
        "colab": {
          "base_uri": "https://localhost:8080/"
        },
        "id": "7zoh2e-TSnqH",
        "outputId": "90b9a891-6ac8-423a-cbde-a6bd58575e44"
      },
      "source": [
        "\r\n",
        "history = model.fit(train_dataset,\r\n",
        "                    epochs=10,\r\n",
        "                    validation_data=test_dataset,\r\n",
        "                    validation_steps=30)"
      ],
      "execution_count": null,
      "outputs": [
        {
          "output_type": "stream",
          "text": [
            "Epoch 1/10\n",
            "63/63 [==============================] - ETA: 0s - loss: 0.6910 - accuracy: 0.5194 - f1_score: 0.0000e+00WARNING:tensorflow:Your input ran out of data; interrupting training. Make sure that your dataset or generator can generate at least `steps_per_epoch * epochs` batches (in this case, 30 batches). You may need to use the repeat() function when building your dataset.\n",
            "63/63 [==============================] - 153s 2s/step - loss: 0.6909 - accuracy: 0.5191 - f1_score: 0.0000e+00 - val_loss: 0.6785 - val_accuracy: 0.5000 - val_f1_score: 0.0000e+00\n",
            "Epoch 2/10\n",
            "63/63 [==============================] - 133s 2s/step - loss: 0.6389 - accuracy: 0.5515 - f1_score: 0.1600\n",
            "Epoch 3/10\n",
            "63/63 [==============================] - 130s 2s/step - loss: 0.3412 - accuracy: 0.8849 - f1_score: 0.8753\n",
            "Epoch 4/10\n",
            "63/63 [==============================] - 132s 2s/step - loss: 0.2849 - accuracy: 0.8983 - f1_score: 0.8915\n",
            "Epoch 5/10\n",
            "63/63 [==============================] - 133s 2s/step - loss: 0.2447 - accuracy: 0.9194 - f1_score: 0.9160\n",
            "Epoch 6/10\n",
            "63/63 [==============================] - 127s 2s/step - loss: 0.2565 - accuracy: 0.9197 - f1_score: 0.9157\n",
            "Epoch 7/10\n",
            "63/63 [==============================] - 129s 2s/step - loss: 0.2196 - accuracy: 0.9334 - f1_score: 0.9311\n",
            "Epoch 8/10\n",
            "63/63 [==============================] - 127s 2s/step - loss: 0.2102 - accuracy: 0.9295 - f1_score: 0.9293\n",
            "Epoch 9/10\n",
            "63/63 [==============================] - 135s 2s/step - loss: 0.2051 - accuracy: 0.9395 - f1_score: 0.9367\n",
            "Epoch 10/10\n",
            "63/63 [==============================] - 131s 2s/step - loss: 0.1804 - accuracy: 0.9436 - f1_score: 0.9409\n"
          ],
          "name": "stdout"
        }
      ]
    },
    {
      "cell_type": "code",
      "metadata": {
        "id": "jZxxP-P7Sq_k",
        "colab": {
          "base_uri": "https://localhost:8080/"
        },
        "outputId": "a3fd1b56-8170-4bea-801f-4575be27af31"
      },
      "source": [
        "test_loss, test_acc, test_f1_score = model.evaluate(test_dataset)\r\n",
        "\r\n",
        "print('Test Loss: {}'.format(test_loss))\r\n",
        "print('Test Accuracy: {}'.format(test_acc))"
      ],
      "execution_count": null,
      "outputs": [
        {
          "output_type": "stream",
          "text": [
            "16/16 [==============================] - 8s 476ms/step - loss: 0.2645 - accuracy: 0.9140 - f1_score: 0.9138\n",
            "Test Loss: 0.264512300491333\n",
            "Test Accuracy: 0.9139999747276306\n"
          ],
          "name": "stdout"
        }
      ]
    },
    {
      "cell_type": "code",
      "metadata": {
        "id": "Yay8n7wDWb6B",
        "colab": {
          "base_uri": "https://localhost:8080/",
          "height": 517
        },
        "outputId": "dbbf4178-ad39-4120-d53f-05e8b7cdd861"
      },
      "source": [
        "plt.figure(figsize=(16,8))\r\n",
        "plt.subplot(1,2,1)\r\n",
        "plot_graphs(history, 'accuracy')\r\n",
        "plt.ylim(None,1)\r\n",
        "plt.subplot(1,2,2)\r\n",
        "plot_graphs(history, 'loss')\r\n",
        "plt.ylim(0,None)"
      ],
      "execution_count": null,
      "outputs": [
        {
          "output_type": "execute_result",
          "data": {
            "text/plain": [
              "(0.0, 0.7124112270772457)"
            ]
          },
          "metadata": {
            "tags": []
          },
          "execution_count": 28
        },
        {
          "output_type": "display_data",
          "data": {
            "image/png": "[encoded data removed]",
            "text/plain": [
              "<Figure size 1152x576 with 2 Axes>"
            ]
          },
          "metadata": {
            "tags": [],
            "needs_background": "light"
          }
        }
      ]
    },
    {
      "cell_type": "code",
      "metadata": {
        "id": "9usKp2J4Wfj_",
        "colab": {
          "base_uri": "https://localhost:8080/"
        },
        "outputId": "3a6b5553-454c-4843-802c-42c34aa9c8ce"
      },
      "source": [
        "#saving a model in HDF5 format\r\n",
        "#model is a tf.keras.Model object created using any of the above methods\r\n",
        "model.save(\"/content/drive/My Drive/Colab_Notebooks/rnn_lstm_v1.tf\", save_format='tf')"
      ],
      "execution_count": null,
      "outputs": [
        {
          "output_type": "stream",
          "text": [
            "WARNING:absl:Found untraced functions such as lstm_cell_1_layer_call_and_return_conditional_losses, lstm_cell_1_layer_call_fn, lstm_cell_2_layer_call_and_return_conditional_losses, lstm_cell_2_layer_call_fn, lstm_cell_1_layer_call_fn while saving (showing 5 of 10). These functions will not be directly callable after loading.\n",
            "WARNING:absl:Found untraced functions such as lstm_cell_1_layer_call_and_return_conditional_losses, lstm_cell_1_layer_call_fn, lstm_cell_2_layer_call_and_return_conditional_losses, lstm_cell_2_layer_call_fn, lstm_cell_1_layer_call_fn while saving (showing 5 of 10). These functions will not be directly callable after loading.\n"
          ],
          "name": "stderr"
        },
        {
          "output_type": "stream",
          "text": [
            "INFO:tensorflow:Assets written to: /content/drive/My Drive/Colab_Notebooks/rnn_lstm_v1.tf/assets\n"
          ],
          "name": "stdout"
        },
        {
          "output_type": "stream",
          "text": [
            "INFO:tensorflow:Assets written to: /content/drive/My Drive/Colab_Notebooks/rnn_lstm_v1.tf/assets\n"
          ],
          "name": "stderr"
        }
      ]
    },
    {
      "cell_type": "code",
      "metadata": {
        "id": "Hg03-TSIWmA9",
        "colab": {
          "base_uri": "https://localhost:8080/"
        },
        "outputId": "342a8d5e-9dc8-462c-ace0-1fd5cda4c06b"
      },
      "source": [
        "history = model.fit(train_dataset, epochs=6,\r\n",
        "                    validation_data=test_dataset, \r\n",
        "                    validation_steps=30)"
      ],
      "execution_count": null,
      "outputs": [
        {
          "output_type": "stream",
          "text": [
            "Epoch 1/6\n",
            "63/63 [==============================] - ETA: 0s - loss: 0.2000 - accuracy: 0.9425 - f1_score: 0.9421WARNING:tensorflow:Your input ran out of data; interrupting training. Make sure that your dataset or generator can generate at least `steps_per_epoch * epochs` batches (in this case, 30 batches). You may need to use the repeat() function when building your dataset.\n"
          ],
          "name": "stdout"
        },
        {
          "output_type": "stream",
          "text": [
            "WARNING:tensorflow:Your input ran out of data; interrupting training. Make sure that your dataset or generator can generate at least `steps_per_epoch * epochs` batches (in this case, 30 batches). You may need to use the repeat() function when building your dataset.\n"
          ],
          "name": "stderr"
        },
        {
          "output_type": "stream",
          "text": [
            "\b\b\b\b\b\b\b\b\b\b\b\b\b\b\b\b\b\b\b\b\b\b\b\b\b\b\b\b\b\b\b\b\b\b\b\b\b\b\b\b\b\b\b\b\b\b\b\b\b\b\b\b\b\b\b\b\b\b\b\b\b\b\b\b\b\b\b\b\b\b\b\b\b\b\b\b\b\b\b\b\b\b\b\b\b\b\b\b\b\b\b\b\b\b\b\b\b\b\b\b\b\r63/63 [==============================] - 141s 2s/step - loss: 0.2000 - accuracy: 0.9425 - f1_score: 0.9421 - val_loss: 0.2364 - val_accuracy: 0.9250 - val_f1_score: 0.9249\n",
            "Epoch 2/6\n",
            "63/63 [==============================] - 134s 2s/step - loss: 0.1864 - accuracy: 0.9473 - f1_score: 0.9473\n",
            "Epoch 3/6\n",
            "63/63 [==============================] - 130s 2s/step - loss: 0.1674 - accuracy: 0.9548 - f1_score: 0.9545\n",
            "Epoch 4/6\n",
            "63/63 [==============================] - 132s 2s/step - loss: 0.1581 - accuracy: 0.9565 - f1_score: 0.9562\n",
            "Epoch 5/6\n",
            "63/63 [==============================] - 127s 2s/step - loss: 0.1615 - accuracy: 0.9528 - f1_score: 0.9526\n",
            "Epoch 6/6\n",
            "63/63 [==============================] - 137s 2s/step - loss: 0.1394 - accuracy: 0.9607 - f1_score: 0.9603\n"
          ],
          "name": "stdout"
        }
      ]
    },
    {
      "cell_type": "code",
      "metadata": {
        "id": "JPDaThYJWsqt",
        "colab": {
          "base_uri": "https://localhost:8080/"
        },
        "outputId": "0aa8e234-2a13-49d9-b5b4-b83db805d7fa"
      },
      "source": [
        "test_loss, test_acc, test_f1_score = model.evaluate(test_dataset)\r\n",
        "\r\n",
        "print('Test Loss: {}'.format(test_loss))\r\n",
        "print('Test Accuracy: {}'.format(test_acc))"
      ],
      "execution_count": null,
      "outputs": [
        {
          "output_type": "stream",
          "text": [
            "16/16 [==============================] - 8s 483ms/step - loss: 0.2136 - accuracy: 0.9280 - f1_score: 0.9283\n",
            "Test Loss: 0.21359297633171082\n",
            "Test Accuracy: 0.9279999732971191\n"
          ],
          "name": "stdout"
        }
      ]
    },
    {
      "cell_type": "code",
      "metadata": {
        "id": "0HxgfFjVW1sX",
        "colab": {
          "base_uri": "https://localhost:8080/",
          "height": 514
        },
        "outputId": "ed5c2bde-951c-4dde-c5b9-3a2a2139b0a9"
      },
      "source": [
        "plt.figure(figsize=(16,8))\r\n",
        "plt.subplot(1,2,1)\r\n",
        "plot_graphs(history, 'accuracy')\r\n",
        "plt.ylim(None,1)\r\n",
        "plt.subplot(1,2,2)\r\n",
        "plot_graphs(history, 'loss')\r\n",
        "plt.ylim(0,None)"
      ],
      "execution_count": null,
      "outputs": [
        {
          "output_type": "execute_result",
          "data": {
            "text/plain": [
              "(0.0, 0.24127603694796562)"
            ]
          },
          "metadata": {
            "tags": []
          },
          "execution_count": 32
        },
        {
          "output_type": "display_data",
          "data": {
            "image/png": "[encoded data removed]",
            "text/plain": [
              "<Figure size 1152x576 with 2 Axes>"
            ]
          },
          "metadata": {
            "tags": [],
            "needs_background": "light"
          }
        }
      ]
    },
    {
      "cell_type": "code",
      "metadata": {
        "id": "Hxu9kfuwW5OC"
      },
      "source": [
        "model2 = tf.keras.Sequential([\r\n",
        "    encoder,\r\n",
        "    tf.keras.layers.Embedding(len(encoder.get_vocabulary()), 64, mask_zero=True),\r\n",
        "    tf.keras.layers.Bidirectional(tf.keras.layers.LSTM(64,  return_sequences=True)),\r\n",
        "    tf.keras.layers.Bidirectional(tf.keras.layers.LSTM(32)),\r\n",
        "    tf.keras.layers.Dense(64, activation='relu'),\r\n",
        "    tf.keras.layers.Dropout(0.5),\r\n",
        "    tf.keras.layers.Dense(1)\r\n",
        "])"
      ],
      "execution_count": null,
      "outputs": []
    },
    {
      "cell_type": "code",
      "metadata": {
        "id": "u6RaYv0rW93Y"
      },
      "source": [
        "model2.compile(loss=tf.keras.losses.BinaryCrossentropy(from_logits=True),\r\n",
        "              optimizer=tf.keras.optimizers.Adam(1e-4),\r\n",
        "              metrics=['accuracy', tfa.metrics.F1Score(num_classes=2, average=\"micro\", threshold=0.5 )])"
      ],
      "execution_count": null,
      "outputs": []
    },
    {
      "cell_type": "code",
      "metadata": {
        "id": "aZgcybsaXBgC",
        "colab": {
          "base_uri": "https://localhost:8080/"
        },
        "outputId": "1aae6883-da41-42a3-acfe-7ab38d1f1c54"
      },
      "source": [
        "\r\n",
        "history2 = model2.fit(train_dataset, epochs=10,\r\n",
        "                    validation_data=test_dataset,\r\n",
        "                    validation_steps=30)"
      ],
      "execution_count": null,
      "outputs": [
        {
          "output_type": "stream",
          "text": [
            "Epoch 1/10\n",
            "63/63 [==============================] - ETA: 0s - loss: 0.6897 - accuracy: 0.5123 - f1_score: 0.0000e+00WARNING:tensorflow:Your input ran out of data; interrupting training. Make sure that your dataset or generator can generate at least `steps_per_epoch * epochs` batches (in this case, 30 batches). You may need to use the repeat() function when building your dataset.\n"
          ],
          "name": "stdout"
        },
        {
          "output_type": "stream",
          "text": [
            "WARNING:tensorflow:Your input ran out of data; interrupting training. Make sure that your dataset or generator can generate at least `steps_per_epoch * epochs` batches (in this case, 30 batches). You may need to use the repeat() function when building your dataset.\n"
          ],
          "name": "stderr"
        },
        {
          "output_type": "stream",
          "text": [
            "\b\b\b\b\b\b\b\b\b\b\b\b\b\b\b\b\b\b\b\b\b\b\b\b\b\b\b\b\b\b\b\b\b\b\b\b\b\b\b\b\b\b\b\b\b\b\b\b\b\b\b\b\b\b\b\b\b\b\b\b\b\b\b\b\b\b\b\b\b\b\b\b\b\b\b\b\b\b\b\b\b\b\b\b\b\b\b\b\b\b\b\b\b\b\b\b\b\b\b\b\b\b\b\b\b\r63/63 [==============================] - 282s 4s/step - loss: 0.6896 - accuracy: 0.5121 - f1_score: 0.0000e+00 - val_loss: 0.6706 - val_accuracy: 0.5000 - val_f1_score: 0.0000e+00\n",
            "Epoch 2/10\n",
            "63/63 [==============================] - 254s 4s/step - loss: 0.6211 - accuracy: 0.5814 - f1_score: 0.2597\n",
            "Epoch 3/10\n",
            "63/63 [==============================] - 246s 4s/step - loss: 0.3702 - accuracy: 0.8580 - f1_score: 0.8427\n",
            "Epoch 4/10\n",
            "63/63 [==============================] - 250s 4s/step - loss: 0.2811 - accuracy: 0.9069 - f1_score: 0.9057\n",
            "Epoch 5/10\n",
            "63/63 [==============================] - 245s 4s/step - loss: 0.2401 - accuracy: 0.9135 - f1_score: 0.9123\n",
            "Epoch 6/10\n",
            "63/63 [==============================] - 248s 4s/step - loss: 0.2179 - accuracy: 0.9244 - f1_score: 0.9223\n",
            "Epoch 7/10\n",
            "63/63 [==============================] - 247s 4s/step - loss: 0.1944 - accuracy: 0.9305 - f1_score: 0.9266\n",
            "Epoch 8/10\n",
            "63/63 [==============================] - 236s 4s/step - loss: 0.1688 - accuracy: 0.9420 - f1_score: 0.9424\n",
            "Epoch 9/10\n",
            "63/63 [==============================] - 252s 4s/step - loss: 0.1596 - accuracy: 0.9480 - f1_score: 0.9472\n",
            "Epoch 10/10\n",
            "63/63 [==============================] - 250s 4s/step - loss: 0.1349 - accuracy: 0.9608 - f1_score: 0.9596\n"
          ],
          "name": "stdout"
        }
      ]
    },
    {
      "cell_type": "code",
      "metadata": {
        "id": "m3hiDP6KXEGX",
        "colab": {
          "base_uri": "https://localhost:8080/"
        },
        "outputId": "095ef29a-0ff6-422a-8cb6-366506538a9d"
      },
      "source": [
        "test_loss, test_acc, test_f1_score = model2.evaluate(test_dataset)\r\n",
        "\r\n",
        "print('Test Loss: {}'.format(test_loss))\r\n",
        "print('Test Accuracy: {}'.format(test_acc))"
      ],
      "execution_count": null,
      "outputs": [
        {
          "output_type": "stream",
          "text": [
            "16/16 [==============================] - 15s 935ms/step - loss: 0.1905 - accuracy: 0.9370 - f1_score: 0.9362\n",
            "Test Loss: 0.19049440324306488\n",
            "Test Accuracy: 0.9369999766349792\n"
          ],
          "name": "stdout"
        }
      ]
    },
    {
      "cell_type": "code",
      "metadata": {
        "id": "Vi1NUaS8XhVZ",
        "colab": {
          "base_uri": "https://localhost:8080/"
        },
        "outputId": "a3d4f457-30e3-469d-e0bf-72278321e7e3"
      },
      "source": [
        "plt.figure(figsize=(16,8))\r\n",
        "plt.subplot(1,2,1)\r\n",
        "plot_graphs(history2, 'accuracy')\r\n",
        "plt.ylim(None,1)\r\n",
        "plt.subplot(1,2,2)\r\n",
        "plot_graphs(history2, 'loss')\r\n",
        "plt.ylim(0,None)"
      ],
      "execution_count": null,
      "outputs": [
        {
          "output_type": "execute_result",
          "data": {
            "text/plain": [
              "(0.0, 0.7128876321017742)"
            ]
          },
          "metadata": {
            "tags": []
          },
          "execution_count": 37
        },
        {
          "output_type": "display_data",
          "data": {
            "image/png": "[encoded data removed]",
            "text/plain": [
              "<Figure size 1152x576 with 2 Axes>"
            ]
          },
          "metadata": {
            "tags": [],
            "needs_background": "light"
          }
        }
      ]
    },
    {
      "cell_type": "code",
      "metadata": {
        "id": "nwYALILTXlja",
        "colab": {
          "base_uri": "https://localhost:8080/"
        },
        "outputId": "b8f2a674-7255-4248-e04a-01d6bf854028"
      },
      "source": [
        "#saving a model in HDF5 format\r\n",
        "#model is a tf.keras.Model object created using any of the above methods\r\n",
        "model.save(\"/content/drive/My Drive/Colab_Notebooks/rnn_lstm2_v1.tf\", save_format='tf')"
      ],
      "execution_count": null,
      "outputs": [
        {
          "output_type": "stream",
          "text": [
            "WARNING:absl:Found untraced functions such as lstm_cell_1_layer_call_and_return_conditional_losses, lstm_cell_1_layer_call_fn, lstm_cell_2_layer_call_and_return_conditional_losses, lstm_cell_2_layer_call_fn, lstm_cell_1_layer_call_fn while saving (showing 5 of 10). These functions will not be directly callable after loading.\n",
            "WARNING:absl:Found untraced functions such as lstm_cell_1_layer_call_and_return_conditional_losses, lstm_cell_1_layer_call_fn, lstm_cell_2_layer_call_and_return_conditional_losses, lstm_cell_2_layer_call_fn, lstm_cell_1_layer_call_fn while saving (showing 5 of 10). These functions will not be directly callable after loading.\n"
          ],
          "name": "stderr"
        },
        {
          "output_type": "stream",
          "text": [
            "INFO:tensorflow:Assets written to: /content/drive/My Drive/Colab_Notebooks/rnn_lstm2_v1.tf/assets\n"
          ],
          "name": "stdout"
        },
        {
          "output_type": "stream",
          "text": [
            "INFO:tensorflow:Assets written to: /content/drive/My Drive/Colab_Notebooks/rnn_lstm2_v1.tf/assets\n"
          ],
          "name": "stderr"
        }
      ]
    },
    {
      "cell_type": "code",
      "metadata": {
        "id": "702uftPoXrb_"
      },
      "source": [
        ""
      ],
      "execution_count": null,
      "outputs": []
    }
  ]
}